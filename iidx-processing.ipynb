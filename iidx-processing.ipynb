{
 "cells": [
  {
   "cell_type": "code",
   "execution_count": null,
   "metadata": {},
   "outputs": [],
   "source": [
    "import requests\n",
    "\n",
    "data_src = {}\n",
    "for src in [\"titletbl\", \"actbl\", \"datatbl\"]:\n",
    "    x = requests.get(f\"https://textage.cc/score/{src}.js\")\n",
    "    if x.status_code < 400:\n",
    "        x.encoding = x.apparent_encoding\n",
    "        data_src[src] = x.text\n",
    "    else:\n",
    "        data_src[src]"
   ]
  },
  {
   "cell_type": "code",
   "execution_count": 1,
   "metadata": {},
   "outputs": [],
   "source": [
    "import json\n",
    "import re\n",
    "\n",
    "data = []\n",
    "diffLookup = {\n",
    "    \"N\": \"normal\",\n",
    "    \"H\": \"hyper\",\n",
    "    \"A\": \"another\"\n",
    "}\n",
    "with open(r\"C:\\Users\\telpi\\Documents\\GitHub\\DDRCardDraw\\iidx-motl5-base.txt\", 'r', encoding='utf-8') as fp:\n",
    "    for line in fp:\n",
    "        tokens = line.split('\\t')\n",
    "        if len(tokens) <= 1:\n",
    "            break\n",
    "\n",
    "        if tokens[0] == '12H':\n",
    "            lvl = 14\n",
    "        elif tokens[0] == '12M':\n",
    "            lvl = 13\n",
    "        else:\n",
    "            lvl = int(re.sub('\\D', '', tokens[0]))\n",
    "        name = tokens[1]\n",
    "        diffClass = diffLookup[tokens[2]]\n",
    "        artist = f\"P1 {tokens[3]} | P2 {tokens[4]}\"\n",
    "\n",
    "        data.append({\n",
    "            \"name\": name,\n",
    "            \"artist\": artist,\n",
    "            \"bpm\": \"0\",\n",
    "            \"jacket\": \"\",\n",
    "            \"charts\": [{\n",
    "                \"lvl\": lvl,\n",
    "                \"style\": \"single\",\n",
    "                \"diffClass\": diffClass\n",
    "            }]\n",
    "        })\n",
    "\n",
    "with open(r\"C:\\Users\\telpi\\Documents\\GitHub\\DDRCardDraw\\iidx-motl5-base.json\", 'w', encoding='utf-8') as fp:\n",
    "    json.dump(data, fp)\n"
   ]
  },
  {
   "cell_type": "code",
   "execution_count": null,
   "metadata": {},
   "outputs": [],
   "source": [
    "                SBo SB  SN  SH  SA  SX  DB  DN  DH  DA  DX\n",
    "# [ttnum SB ... DX chartrev]\n",
    "# ttnum:\n",
    "#   & 0b0001    is in AC\n",
    "#   & 0b0010    is in CS\n",
    "#   & 0b0100    has beginner\n",
    "#   & 0b1000    has leggendaria\n",
    "              0,0,0,1,1,2,3,8,3,9,3,0,0,0,0,1,3,8,3,0,0,0,0,\"(CS9th)\"\n",
    "'aegis'\t\t:[3,0,0,0,0,6,F,8,F,B,F,0,0,0,0,5,F,8,F,A,F,0,0],\n",
    "'absolute'\t:[B,3,1,3,1,6,7,8,7,A,7,B,F,0,0,6,7,8,7,B,7,B,F,\"\"],\n",
    "'abso_k'\t:[1,0,0,0,0,5,F,8,F,B,F,0,0,0,0,5,F,8,F,B,F,0,0],\n",
    "'absoevil'\t:[1,0,0,0,0,6,F,A,F,C,F,0,0,0,0,6,F,A,F,C,F,0,0,\"\"],\n",
    "\n",
    "# [version, id, opt, genre, artist, title, subtitle]\n",
    "'begincr5':[0,3912,1,\"TECHNO\",\"QUADRA / Remixed by QUADRA\",\"Beginning of life\",\"(THE GROUND PULSE MIX)\"],\n",
    "\n",
    "\n",
    "\n",
    "'2player'\t:[   0,   0, 511, 840,1302,   0,   0, 526, 843,1368,   0,\"129`220\"],"
   ]
  },
  {
   "cell_type": "code",
   "execution_count": null,
   "metadata": {},
   "outputs": [],
   "source": [
    "s"
   ]
  }
 ],
 "metadata": {
  "interpreter": {
   "hash": "85e8c440201a96d879344f822825791d567519245b4bbef3ad49ec92f8ab7c6a"
  },
  "kernelspec": {
   "display_name": "Python 3.8.7 64-bit ('snaaaaaake-MxdrXQ-p': pipenv)",
   "language": "python",
   "name": "python3"
  },
  "language_info": {
   "codemirror_mode": {
    "name": "ipython",
    "version": 3
   },
   "file_extension": ".py",
   "mimetype": "text/x-python",
   "name": "python",
   "nbconvert_exporter": "python",
   "pygments_lexer": "ipython3",
   "version": "3.8.7"
  },
  "orig_nbformat": 4
 },
 "nbformat": 4,
 "nbformat_minor": 2
}
